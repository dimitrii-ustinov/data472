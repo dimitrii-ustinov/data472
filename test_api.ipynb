{
 "cells": [
  {
   "cell_type": "code",
   "execution_count": 16,
   "metadata": {},
   "outputs": [
    {
     "name": "stdout",
     "output_type": "stream",
     "text": [
      "    Type        SiteName                                      PhotographURL  \\\n",
      "0  Bench  Sparks Wetland  https://gismap.ccc.govt.nz/Image/ManMade/ParkA...   \n",
      "1  Bench  Sparks Wetland  https://gismap.ccc.govt.nz/Image/ManMade/ParkA...   \n",
      "2  Bench  Sparks Wetland  https://gismap.ccc.govt.nz/Image/ManMade/ParkA...   \n",
      "3  Bench  Sparks Wetland  https://gismap.ccc.govt.nz/Image/ManMade/ParkA...   \n",
      "\n",
      "   SAPInternalReference         lon        lat   DateSaved  \n",
      "0  IE000000000011406964  172.570748 -43.489373  2024-05-21  \n",
      "1  IE000000000011406963  172.570748 -43.489373  2024-05-21  \n",
      "2  IE000000000011406965  172.570748 -43.489373  2024-05-21  \n",
      "3  IE000000000011502320  172.570748 -43.489373  2024-05-21  \n"
     ]
    }
   ],
   "source": [
    "import requests\n",
    "import pandas as pd\n",
    "import datetime\n",
    "import numpy as np\n",
    "import time\n",
    "\n",
    "# Construct the API URL with parameters\n",
    "url = \"https://gis.ccc.govt.nz/server/rest/services/OpenData/Furniture/FeatureServer/19/query?where=1%3D1&outFields=Type,SiteName,PhotographURL,SAPInternalReference&resultType=none&maxRecordCount=10000&outSR=4326&f=json\"\n",
    "params = {\n",
    "    'where': '1=1',\n",
    "    'outFields': 'Type,SiteName,PhotographURL,SAPInternalReference',\n",
    "    'resultType': 'none',\n",
    "    'maxRecordCount': '10000',\n",
    "    'outSR': '4326',\n",
    "    'f': 'json'\n",
    "}\n",
    "\n",
    "# Make the GET request\n",
    "response = requests.get(url, params=params)\n",
    "\n",
    "# Check if the request was successful (status code 200)\n",
    "if response.status_code == 200:\n",
    "    # Parse the JSON response\n",
    "    data = response.json()\n",
    "    \n",
    "    # Extract the features from the response\n",
    "    features = data.get('features', [])\n",
    "    #print(features[10])\n",
    "    \n",
    "    # Extract attributes from each feature\n",
    "    for feature in features:\n",
    "        records = feature[\"attributes\"]\n",
    "        #date_int =  feature[\"attributes\"]['LastEditDate']#datetime.datetime.fromtimestamp(feature[\"attributes\"]['LastEditDate']/1000)\n",
    "        #date_time = datetime.datetime.fromtimestamp(date_int/1000)\n",
    "    \n",
    "    records = [feature['attributes'] for feature in features]\n",
    "    geometry = [feature['geometry'] for feature in features]\n",
    "    \n",
    "    # Create DataFrame\n",
    "    df = pd.DataFrame(records)\n",
    "    #del(df[\"LastEditDate\"])\n",
    "    #df[\"Last_Edit_Date\"] = date\n",
    "    for values in geometry:\n",
    "        df['lon'] = values['x']\n",
    "        df['lat'] = values['y']\n",
    "\n",
    "    #df[\"Last_Edit_Date\"] = pd.to_datetime(df[\"LastEditDate\"], unit='ms').dt.date\n",
    "    #del(df[\"LastEditDate\"])\n",
    "    df['SiteName'] = df['SiteName'].str.split(' - ').str.get(1)\n",
    "    year = datetime.datetime.now().year\n",
    "    month = datetime.datetime.now().month\n",
    "    day = datetime.datetime.now().day\n",
    "    df['DateSaved'] = datetime.date(year,month,day)\n",
    "    # Print DataFrame\n",
    "    print(df.head(4))\n",
    "else:\n",
    "    print(\"Error:\", response.status_code)"
   ]
  },
  {
   "cell_type": "code",
   "execution_count": 6,
   "metadata": {},
   "outputs": [
    {
     "name": "stdout",
     "output_type": "stream",
     "text": [
      " * Serving Flask app '__main__'\n",
      " * Debug mode: on\n"
     ]
    },
    {
     "name": "stderr",
     "output_type": "stream",
     "text": [
      "WARNING: This is a development server. Do not use it in a production deployment. Use a production WSGI server instead.\n",
      " * Running on http://127.0.0.1:5000\n",
      "Press CTRL+C to quit\n",
      " * Restarting with stat\n"
     ]
    },
    {
     "ename": "SystemExit",
     "evalue": "1",
     "output_type": "error",
     "traceback": [
      "An exception has occurred, use %tb to see the full traceback.\n",
      "\u001b[1;31mSystemExit\u001b[0m\u001b[1;31m:\u001b[0m 1\n"
     ]
    },
    {
     "name": "stderr",
     "output_type": "stream",
     "text": [
      "c:\\Program Files\\Python311\\Lib\\site-packages\\IPython\\core\\interactiveshell.py:3468: UserWarning: To exit: use 'exit', 'quit', or Ctrl-D.\n",
      "  warn(\"To exit: use 'exit', 'quit', or Ctrl-D.\", stacklevel=1)\n"
     ]
    }
   ],
   "source": [
    "from flask import Flask, jsonify\n",
    "\n",
    "app = Flask(__name__)\n",
    "\n",
    "\n",
    "@app.route('/api/data', methods=['GET'])\n",
    "async def get_data():\n",
    "    # Return the entire DataFrame as JSON\n",
    "    return \"Response\" #jsonify(df.to_dict(orient='records'))\n",
    "\n",
    "# @app.route('/api/column/<column_name>', methods=['GET'])\n",
    "# def get_column(column_name):\n",
    "#     # Return the specified column as JSON\n",
    "#     if column_name in df.columns:\n",
    "#         return jsonify(df[column_name].tolist())\n",
    "#     else:\n",
    "#         return jsonify({'error': 'Column not found'}), 404\n",
    "\n",
    "if __name__ == '__main__':\n",
    "    app.run(debug=True)"
   ]
  },
  {
   "cell_type": "code",
   "execution_count": 17,
   "metadata": {},
   "outputs": [
    {
     "name": "stdout",
     "output_type": "stream",
     "text": [
      "2000\n",
      "2000\n"
     ]
    }
   ],
   "source": [
    "print(df[\"SAPInternalReference\"].nunique())\n",
    "print(len(df[\"Type\"]))"
   ]
  }
 ],
 "metadata": {
  "kernelspec": {
   "display_name": "Python 3",
   "language": "python",
   "name": "python3"
  },
  "language_info": {
   "codemirror_mode": {
    "name": "ipython",
    "version": 3
   },
   "file_extension": ".py",
   "mimetype": "text/x-python",
   "name": "python",
   "nbconvert_exporter": "python",
   "pygments_lexer": "ipython3",
   "version": "3.10.5"
  }
 },
 "nbformat": 4,
 "nbformat_minor": 2
}
